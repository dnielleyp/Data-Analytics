{
 "cells": [
  {
   "cell_type": "code",
   "execution_count": 1,
   "metadata": {},
   "outputs": [],
   "source": [
    "import pandas as pd \n",
    "import matplotlib.pyplot as plt \n",
    "import numpy as np "
   ]
  },
  {
   "cell_type": "code",
   "execution_count": 2,
   "metadata": {},
   "outputs": [],
   "source": [
    "data = pd.read_csv(\"data/mudah-apartment-kl-selangor.csv\")"
   ]
  },
  {
   "cell_type": "code",
   "execution_count": 3,
   "metadata": {},
   "outputs": [],
   "source": [
    "data['parking'].fillna(0, inplace=True)\n",
    "data['rooms'].fillna(0, inplace=True)\n",
    "data['facilities'].fillna(\"None\", inplace=True)\n",
    "data['additional_facilities'].fillna(\"None\", inplace=True)\n",
    "data['bathroom'].fillna(0, inplace=True)\n",
    "data.dropna(subset=['monthly_rent', 'furnished'], inplace=True)\n"
   ]
  },
  {
   "cell_type": "code",
   "execution_count": 4,
   "metadata": {},
   "outputs": [
    {
     "data": {
      "text/plain": [
       "ads_id                      0\n",
       "prop_name                 944\n",
       "completion_year          9180\n",
       "monthly_rent                0\n",
       "location                    0\n",
       "property_type               0\n",
       "rooms                       0\n",
       "parking                     0\n",
       "bathroom                    0\n",
       "size                        0\n",
       "furnished                   0\n",
       "facilities                  0\n",
       "additional_facilities       0\n",
       "region                      0\n",
       "dtype: int64"
      ]
     },
     "execution_count": 4,
     "metadata": {},
     "output_type": "execute_result"
    }
   ],
   "source": [
    "data.isna().sum()"
   ]
  },
  {
   "cell_type": "code",
   "execution_count": 5,
   "metadata": {},
   "outputs": [],
   "source": [
    "data.drop(columns=['ads_id', 'prop_name', 'completion_year'], inplace=True)"
   ]
  },
  {
   "cell_type": "code",
   "execution_count": 6,
   "metadata": {},
   "outputs": [
    {
     "data": {
      "text/plain": [
       "0        RM 4 200 per month\n",
       "1        RM 2 300 per month\n",
       "2        RM 1 000 per month\n",
       "3        RM 1 700 per month\n",
       "4        RM 1 299 per month\n",
       "                ...        \n",
       "19986    RM 1 200 per month\n",
       "19987    RM 1 300 per month\n",
       "19988    RM 1 350 per month\n",
       "19989    RM 1 200 per month\n",
       "19990    RM 1 000 per month\n",
       "Name: monthly_rent, Length: 19986, dtype: object"
      ]
     },
     "execution_count": 6,
     "metadata": {},
     "output_type": "execute_result"
    }
   ],
   "source": [
    "data['monthly_rent']"
   ]
  },
  {
   "cell_type": "code",
   "execution_count": 7,
   "metadata": {},
   "outputs": [],
   "source": [
    "#get only numerics for the rent\n",
    "data['monthly_rent'] = data['monthly_rent'].str.replace(\" \", '').str.extract('(\\d+)')\n",
    "\n",
    "#get only numerics for the size\n",
    "data['size'] = data['size'].str.replace(\" \", '').str.extract('(\\d+)')"
   ]
  },
  {
   "cell_type": "code",
   "execution_count": 8,
   "metadata": {},
   "outputs": [],
   "source": [
    "data['monthly_rent'] =  pd.to_numeric(data['monthly_rent'])\n",
    "data['size'] =  pd.to_numeric(data['size'])"
   ]
  },
  {
   "cell_type": "code",
   "execution_count": null,
   "metadata": {},
   "outputs": [],
   "source": [
    "data.to_csv(\"data/Rental_Price_cleaned.csv\")"
   ]
  }
 ],
 "metadata": {
  "kernelspec": {
   "display_name": "Python 3",
   "language": "python",
   "name": "python3"
  },
  "language_info": {
   "codemirror_mode": {
    "name": "ipython",
    "version": 3
   },
   "file_extension": ".py",
   "mimetype": "text/x-python",
   "name": "python",
   "nbconvert_exporter": "python",
   "pygments_lexer": "ipython3",
   "version": "3.11.4"
  }
 },
 "nbformat": 4,
 "nbformat_minor": 2
}
