{
 "cells": [
  {
   "cell_type": "code",
   "execution_count": 1,
   "metadata": {},
   "outputs": [],
   "source": [
    "import pandas as pd \n",
    "import matplotlib.pyplot as plt \n",
    "import numpy as np \n",
    "import seaborn as sns"
   ]
  },
  {
   "cell_type": "code",
   "execution_count": 2,
   "metadata": {},
   "outputs": [],
   "source": [
    "data = pd.read_csv(\"mudah-apartment-kl-selangor.csv\")"
   ]
  },
  {
   "cell_type": "code",
   "execution_count": 34,
   "metadata": {},
   "outputs": [],
   "source": [
    "data['parking'].fillna(0, inplace=True)\n",
    "data['rooms'].fillna(0, inplace=True)\n",
    "data['facilities'].fillna(\"None\", inplace=True)\n",
    "data['additional_facilities'].fillna(\"None\", inplace=True)\n",
    "data['bathroom'].fillna(0, inplace=True)\n",
    "data.dropna(subset=['monthly_rent', 'furnished'], inplace=True)\n"
   ]
  },
  {
   "cell_type": "code",
   "execution_count": 35,
   "metadata": {},
   "outputs": [
    {
     "data": {
      "text/plain": [
       "ads_id                      0\n",
       "prop_name                 944\n",
       "completion_year          9180\n",
       "monthly_rent                0\n",
       "location                    0\n",
       "property_type               0\n",
       "rooms                       0\n",
       "parking                     0\n",
       "bathroom                    0\n",
       "size                        0\n",
       "furnished                   0\n",
       "facilities                  0\n",
       "additional_facilities       0\n",
       "region                      0\n",
       "dtype: int64"
      ]
     },
     "execution_count": 35,
     "metadata": {},
     "output_type": "execute_result"
    }
   ],
   "source": [
    "data.isna().sum()"
   ]
  },
  {
   "cell_type": "code",
   "execution_count": 37,
   "metadata": {},
   "outputs": [],
   "source": [
    "data.drop(columns=['ads_id', 'prop_name', 'completion_year'], inplace=True)"
   ]
  },
  {
   "cell_type": "code",
   "execution_count": 43,
   "metadata": {},
   "outputs": [
    {
     "data": {
      "text/plain": [
       "0        RM 4 200 per month\n",
       "1        RM 2 300 per month\n",
       "2        RM 1 000 per month\n",
       "3        RM 1 700 per month\n",
       "4        RM 1 299 per month\n",
       "                ...        \n",
       "19986    RM 1 200 per month\n",
       "19987    RM 1 300 per month\n",
       "19988    RM 1 350 per month\n",
       "19989    RM 1 200 per month\n",
       "19990    RM 1 000 per month\n",
       "Name: monthly_rent, Length: 19986, dtype: object"
      ]
     },
     "execution_count": 43,
     "metadata": {},
     "output_type": "execute_result"
    }
   ],
   "source": [
    "data['monthly_rent']"
   ]
  },
  {
   "cell_type": "code",
   "execution_count": 65,
   "metadata": {},
   "outputs": [],
   "source": [
    "#get only numerics for the rent\n",
    "data['monthly_rent'] = data['monthly_rent'].str.replace(\" \", '').str.extract('(\\d+)')\n",
    "\n",
    "#get only numerics for the size\n",
    "data['size'] = data['size'].str.replace(\" \", '').str.extract('(\\d+)')"
   ]
  },
  {
   "cell_type": "code",
   "execution_count": 68,
   "metadata": {},
   "outputs": [
    {
     "data": {
      "text/plain": [
       "monthly_rent              object\n",
       "location                  object\n",
       "property_type             object\n",
       "rooms                     object\n",
       "parking                  float64\n",
       "bathroom                 float64\n",
       "size                      object\n",
       "furnished                 object\n",
       "facilities                object\n",
       "additional_facilities     object\n",
       "region                    object\n",
       "dtype: object"
      ]
     },
     "execution_count": 68,
     "metadata": {},
     "output_type": "execute_result"
    }
   ],
   "source": [
    "data.dtypes"
   ]
  },
  {
   "cell_type": "code",
   "execution_count": 70,
   "metadata": {},
   "outputs": [],
   "source": [
    "data['monthly_rent'] =  pd.to_numeric(data['monthly_rent'])"
   ]
  },
  {
   "cell_type": "code",
   "execution_count": 104,
   "metadata": {},
   "outputs": [],
   "source": [
    "data['size'] =  pd.to_numeric(data['size'])"
   ]
  },
  {
   "cell_type": "code",
   "execution_count": 106,
   "metadata": {},
   "outputs": [
    {
     "data": {
      "text/plain": [
       "monthly_rent               int64\n",
       "location                  object\n",
       "property_type             object\n",
       "rooms                     object\n",
       "parking                  float64\n",
       "bathroom                 float64\n",
       "size                       int64\n",
       "furnished                 object\n",
       "facilities                object\n",
       "additional_facilities     object\n",
       "region                    object\n",
       "dtype: object"
      ]
     },
     "execution_count": 106,
     "metadata": {},
     "output_type": "execute_result"
    }
   ],
   "source": [
    "data.dtypes"
   ]
  },
  {
   "cell_type": "code",
   "execution_count": 108,
   "metadata": {},
   "outputs": [
    {
     "data": {
      "text/html": [
       "<div>\n",
       "<style scoped>\n",
       "    .dataframe tbody tr th:only-of-type {\n",
       "        vertical-align: middle;\n",
       "    }\n",
       "\n",
       "    .dataframe tbody tr th {\n",
       "        vertical-align: top;\n",
       "    }\n",
       "\n",
       "    .dataframe thead th {\n",
       "        text-align: right;\n",
       "    }\n",
       "</style>\n",
       "<table border=\"1\" class=\"dataframe\">\n",
       "  <thead>\n",
       "    <tr style=\"text-align: right;\">\n",
       "      <th></th>\n",
       "      <th>monthly_rent</th>\n",
       "      <th>location</th>\n",
       "      <th>property_type</th>\n",
       "      <th>rooms</th>\n",
       "      <th>parking</th>\n",
       "      <th>bathroom</th>\n",
       "      <th>size</th>\n",
       "      <th>furnished</th>\n",
       "      <th>facilities</th>\n",
       "      <th>additional_facilities</th>\n",
       "      <th>region</th>\n",
       "    </tr>\n",
       "  </thead>\n",
       "  <tbody>\n",
       "    <tr>\n",
       "      <th>0</th>\n",
       "      <td>4200</td>\n",
       "      <td>Kuala Lumpur - Taman Desa</td>\n",
       "      <td>Condominium</td>\n",
       "      <td>5</td>\n",
       "      <td>2.0</td>\n",
       "      <td>6.0</td>\n",
       "      <td>1842</td>\n",
       "      <td>Fully Furnished</td>\n",
       "      <td>Minimart, Gymnasium, Security, Playground, Swi...</td>\n",
       "      <td>Air-Cond, Cooking Allowed, Washing Machine</td>\n",
       "      <td>Kuala Lumpur</td>\n",
       "    </tr>\n",
       "    <tr>\n",
       "      <th>1</th>\n",
       "      <td>2300</td>\n",
       "      <td>Kuala Lumpur - Cheras</td>\n",
       "      <td>Condominium</td>\n",
       "      <td>3</td>\n",
       "      <td>1.0</td>\n",
       "      <td>2.0</td>\n",
       "      <td>1170</td>\n",
       "      <td>Partially Furnished</td>\n",
       "      <td>Playground, Parking, Barbeque area, Security, ...</td>\n",
       "      <td>Air-Cond, Cooking Allowed, Near KTM/LRT</td>\n",
       "      <td>Kuala Lumpur</td>\n",
       "    </tr>\n",
       "    <tr>\n",
       "      <th>2</th>\n",
       "      <td>1000</td>\n",
       "      <td>Kuala Lumpur - Taman Desa</td>\n",
       "      <td>Apartment</td>\n",
       "      <td>3</td>\n",
       "      <td>0.0</td>\n",
       "      <td>2.0</td>\n",
       "      <td>650</td>\n",
       "      <td>Fully Furnished</td>\n",
       "      <td>Minimart, Jogging Track, Lift, Swimming Pool</td>\n",
       "      <td>None</td>\n",
       "      <td>Kuala Lumpur</td>\n",
       "    </tr>\n",
       "    <tr>\n",
       "      <th>3</th>\n",
       "      <td>1700</td>\n",
       "      <td>Kuala Lumpur - Sentul</td>\n",
       "      <td>Apartment</td>\n",
       "      <td>2</td>\n",
       "      <td>1.0</td>\n",
       "      <td>2.0</td>\n",
       "      <td>743</td>\n",
       "      <td>Partially Furnished</td>\n",
       "      <td>Parking, Playground, Swimming Pool, Squash Cou...</td>\n",
       "      <td>Cooking Allowed, Near KTM/LRT, Washing Machine</td>\n",
       "      <td>Kuala Lumpur</td>\n",
       "    </tr>\n",
       "    <tr>\n",
       "      <th>4</th>\n",
       "      <td>1299</td>\n",
       "      <td>Kuala Lumpur - Mont Kiara</td>\n",
       "      <td>Service Residence</td>\n",
       "      <td>1</td>\n",
       "      <td>1.0</td>\n",
       "      <td>1.0</td>\n",
       "      <td>494</td>\n",
       "      <td>Not Furnished</td>\n",
       "      <td>Parking, Security, Lift, Swimming Pool, Playgr...</td>\n",
       "      <td>Air-Cond</td>\n",
       "      <td>Kuala Lumpur</td>\n",
       "    </tr>\n",
       "    <tr>\n",
       "      <th>...</th>\n",
       "      <td>...</td>\n",
       "      <td>...</td>\n",
       "      <td>...</td>\n",
       "      <td>...</td>\n",
       "      <td>...</td>\n",
       "      <td>...</td>\n",
       "      <td>...</td>\n",
       "      <td>...</td>\n",
       "      <td>...</td>\n",
       "      <td>...</td>\n",
       "      <td>...</td>\n",
       "    </tr>\n",
       "    <tr>\n",
       "      <th>19986</th>\n",
       "      <td>1200</td>\n",
       "      <td>Selangor - Kajang</td>\n",
       "      <td>Apartment</td>\n",
       "      <td>3.0</td>\n",
       "      <td>0.0</td>\n",
       "      <td>2.0</td>\n",
       "      <td>1000</td>\n",
       "      <td>Partially Furnished</td>\n",
       "      <td>Security, Parking, Lift, Minimart, Multipurpos...</td>\n",
       "      <td>Near KTM/LRT</td>\n",
       "      <td>Selangor</td>\n",
       "    </tr>\n",
       "    <tr>\n",
       "      <th>19987</th>\n",
       "      <td>1300</td>\n",
       "      <td>Selangor - Bandar Saujana Putra</td>\n",
       "      <td>Service Residence</td>\n",
       "      <td>4.0</td>\n",
       "      <td>2.0</td>\n",
       "      <td>3.0</td>\n",
       "      <td>1427</td>\n",
       "      <td>Partially Furnished</td>\n",
       "      <td>Jogging Track, Barbeque area, Playground, Swim...</td>\n",
       "      <td>Air-Cond, Cooking Allowed</td>\n",
       "      <td>Selangor</td>\n",
       "    </tr>\n",
       "    <tr>\n",
       "      <th>19988</th>\n",
       "      <td>1350</td>\n",
       "      <td>Selangor - Kajang</td>\n",
       "      <td>Condominium</td>\n",
       "      <td>3.0</td>\n",
       "      <td>2.0</td>\n",
       "      <td>2.0</td>\n",
       "      <td>1270</td>\n",
       "      <td>Partially Furnished</td>\n",
       "      <td>Parking, Security, Lift, Swimming Pool, Playgr...</td>\n",
       "      <td>Air-Cond, Cooking Allowed, Washing Machine</td>\n",
       "      <td>Selangor</td>\n",
       "    </tr>\n",
       "    <tr>\n",
       "      <th>19989</th>\n",
       "      <td>1200</td>\n",
       "      <td>Selangor - Cyberjaya</td>\n",
       "      <td>Service Residence</td>\n",
       "      <td>3.0</td>\n",
       "      <td>1.0</td>\n",
       "      <td>2.0</td>\n",
       "      <td>1100</td>\n",
       "      <td>Fully Furnished</td>\n",
       "      <td>Parking, Security, Lift, Swimming Pool, Playgr...</td>\n",
       "      <td>Cooking Allowed, Washing Machine</td>\n",
       "      <td>Selangor</td>\n",
       "    </tr>\n",
       "    <tr>\n",
       "      <th>19990</th>\n",
       "      <td>1000</td>\n",
       "      <td>Selangor - Cyberjaya</td>\n",
       "      <td>Studio</td>\n",
       "      <td>1.0</td>\n",
       "      <td>1.0</td>\n",
       "      <td>1.0</td>\n",
       "      <td>580</td>\n",
       "      <td>Partially Furnished</td>\n",
       "      <td>Parking, Security, Lift, Swimming Pool, Playgr...</td>\n",
       "      <td>Air-Cond, Cooking Allowed, Washing Machine</td>\n",
       "      <td>Selangor</td>\n",
       "    </tr>\n",
       "  </tbody>\n",
       "</table>\n",
       "<p>19986 rows × 11 columns</p>\n",
       "</div>"
      ],
      "text/plain": [
       "       monthly_rent                         location      property_type rooms  \\\n",
       "0              4200        Kuala Lumpur - Taman Desa        Condominium     5   \n",
       "1              2300            Kuala Lumpur - Cheras        Condominium     3   \n",
       "2              1000        Kuala Lumpur - Taman Desa          Apartment     3   \n",
       "3              1700            Kuala Lumpur - Sentul          Apartment     2   \n",
       "4              1299        Kuala Lumpur - Mont Kiara  Service Residence     1   \n",
       "...             ...                              ...                ...   ...   \n",
       "19986          1200                Selangor - Kajang          Apartment   3.0   \n",
       "19987          1300  Selangor - Bandar Saujana Putra  Service Residence   4.0   \n",
       "19988          1350                Selangor - Kajang        Condominium   3.0   \n",
       "19989          1200             Selangor - Cyberjaya  Service Residence   3.0   \n",
       "19990          1000             Selangor - Cyberjaya             Studio   1.0   \n",
       "\n",
       "       parking  bathroom  size            furnished  \\\n",
       "0          2.0       6.0  1842      Fully Furnished   \n",
       "1          1.0       2.0  1170  Partially Furnished   \n",
       "2          0.0       2.0   650      Fully Furnished   \n",
       "3          1.0       2.0   743  Partially Furnished   \n",
       "4          1.0       1.0   494        Not Furnished   \n",
       "...        ...       ...   ...                  ...   \n",
       "19986      0.0       2.0  1000  Partially Furnished   \n",
       "19987      2.0       3.0  1427  Partially Furnished   \n",
       "19988      2.0       2.0  1270  Partially Furnished   \n",
       "19989      1.0       2.0  1100      Fully Furnished   \n",
       "19990      1.0       1.0   580  Partially Furnished   \n",
       "\n",
       "                                              facilities  \\\n",
       "0      Minimart, Gymnasium, Security, Playground, Swi...   \n",
       "1      Playground, Parking, Barbeque area, Security, ...   \n",
       "2           Minimart, Jogging Track, Lift, Swimming Pool   \n",
       "3      Parking, Playground, Swimming Pool, Squash Cou...   \n",
       "4      Parking, Security, Lift, Swimming Pool, Playgr...   \n",
       "...                                                  ...   \n",
       "19986  Security, Parking, Lift, Minimart, Multipurpos...   \n",
       "19987  Jogging Track, Barbeque area, Playground, Swim...   \n",
       "19988  Parking, Security, Lift, Swimming Pool, Playgr...   \n",
       "19989  Parking, Security, Lift, Swimming Pool, Playgr...   \n",
       "19990  Parking, Security, Lift, Swimming Pool, Playgr...   \n",
       "\n",
       "                                additional_facilities        region  \n",
       "0          Air-Cond, Cooking Allowed, Washing Machine  Kuala Lumpur  \n",
       "1             Air-Cond, Cooking Allowed, Near KTM/LRT  Kuala Lumpur  \n",
       "2                                                None  Kuala Lumpur  \n",
       "3      Cooking Allowed, Near KTM/LRT, Washing Machine  Kuala Lumpur  \n",
       "4                                            Air-Cond  Kuala Lumpur  \n",
       "...                                               ...           ...  \n",
       "19986                                    Near KTM/LRT      Selangor  \n",
       "19987                       Air-Cond, Cooking Allowed      Selangor  \n",
       "19988      Air-Cond, Cooking Allowed, Washing Machine      Selangor  \n",
       "19989                Cooking Allowed, Washing Machine      Selangor  \n",
       "19990      Air-Cond, Cooking Allowed, Washing Machine      Selangor  \n",
       "\n",
       "[19986 rows x 11 columns]"
      ]
     },
     "execution_count": 108,
     "metadata": {},
     "output_type": "execute_result"
    }
   ],
   "source": [
    "data"
   ]
  },
  {
   "cell_type": "code",
   "execution_count": 109,
   "metadata": {},
   "outputs": [],
   "source": [
    "data.to_csv(\"Rental_Price_cleaned.csv\")"
   ]
  },
  {
   "cell_type": "code",
   "execution_count": 6,
   "metadata": {},
   "outputs": [],
   "source": [
    "import copy"
   ]
  },
  {
   "cell_type": "code",
   "execution_count": 3,
   "metadata": {},
   "outputs": [],
   "source": [
    "data = pd.read_csv(\"Rental_Price_cleaned.csv\")"
   ]
  },
  {
   "cell_type": "code",
   "execution_count": 4,
   "metadata": {},
   "outputs": [],
   "source": [
    "data.drop(columns=['Unnamed: 0'], inplace=True)\n",
    "# data['additional_facilities'] = data['additional_facilities'].str.split(\",\")\n",
    "# data['facilities'] = data['facilities'].str.split(\",\")\n",
    "data['location'] = data['location'].str.replace(\"Kuala Lumpur - \", '')\n",
    "data['location']= data['location'].str.replace(\"Selangor - \", '')"
   ]
  },
  {
   "cell_type": "code",
   "execution_count": 7,
   "metadata": {},
   "outputs": [],
   "source": [
    "data_cat = copy.deepcopy(data)\n",
    "data_codes = copy.deepcopy(data)"
   ]
  },
  {
   "cell_type": "code",
   "execution_count": 8,
   "metadata": {},
   "outputs": [],
   "source": [
    "#cnvert type of location to categorical\n",
    "cat_cols = ['location', 'property_type', 'rooms', 'furnished', 'region']\n",
    "for cols in cat_cols:\n",
    "    data_cat[cols] = data_cat[cols].astype('category')\n",
    "    data_codes[cols] = data_codes[cols].astype('category').cat.codes"
   ]
  },
  {
   "cell_type": "code",
   "execution_count": 9,
   "metadata": {},
   "outputs": [],
   "source": [
    "data_codes = data_codes.drop(columns=['facilities', 'additional_facilities'])"
   ]
  },
  {
   "cell_type": "code",
   "execution_count": 10,
   "metadata": {},
   "outputs": [],
   "source": [
    "abs_corr = np.abs(data_codes.corr()['monthly_rent']).sort_values()\n",
    "corr = data_codes.corr()['monthly_rent'].sort_values()"
   ]
  },
  {
   "cell_type": "code",
   "execution_count": 11,
   "metadata": {},
   "outputs": [
    {
     "data": {
      "text/plain": [
       "Text(0.5, 1.0, 'Correlation of Rental Attributes with Monthly Rent')"
      ]
     },
     "execution_count": 11,
     "metadata": {},
     "output_type": "execute_result"
    },
    {
     "data": {
      "image/png": "[encoded data removed]",
      "text/plain": [
       "<Figure size 800x400 with 1 Axes>"
      ]
     },
     "metadata": {},
     "output_type": "display_data"
    }
   ],
   "source": [
    "fig = plt.figure(figsize=(8,4))\n",
    "X_axis = np.arange(8)\n",
    "\n",
    "plt.bar(X_axis, corr[:-1], width=0.4)\n",
    "plt.axhline(0, color='grey', linewidth='0.5')\n",
    "plt.xticks(X_axis, corr.index.tolist()[:-1])\n",
    "plt.title(\"Correlation of Rental Attributes with Monthly Rent\")"
   ]
  },
  {
   "cell_type": "code",
   "execution_count": 12,
   "metadata": {},
   "outputs": [
    {
     "data": {
      "text/plain": [
       "Text(0.5, 1.0, 'Absolute Correlation of Rental Attributes with Monthly Rent')"
      ]
     },
     "execution_count": 12,
     "metadata": {},
     "output_type": "execute_result"
    },
    {
     "data": {
      "image/png": "[encoded data removed]",
      "text/plain": [
       "<Figure size 800x400 with 1 Axes>"
      ]
     },
     "metadata": {},
     "output_type": "display_data"
    }
   ],
   "source": [
    "fig = plt.figure(figsize=(8,4))\n",
    "X_axis = np.arange(8)\n",
    "\n",
    "plt.bar(X_axis, abs_corr[:-1], width=0.4)\n",
    "plt.axhline(0, color='grey', linewidth='0.5')\n",
    "plt.xticks(X_axis, abs_corr.index.tolist()[:-1])\n",
    "plt.title(\"Absolute Correlation of Rental Attributes with Monthly Rent\")\n"
   ]
  },
  {
   "cell_type": "markdown",
   "metadata": {},
   "source": [
    "The variables which have the highest impact on the monthly rent are region, furnished, parking and bathroom"
   ]
  },
  {
   "cell_type": "code",
   "execution_count": 13,
   "metadata": {},
   "outputs": [
    {
     "data": {
      "image/png": "[encoded data removed]",
      "text/plain": [
       "<Figure size 640x480 with 1 Axes>"
      ]
     },
     "metadata": {},
     "output_type": "display_data"
    }
   ],
   "source": [
    "sns.barplot(x='region', y='monthly_rent', data=data_cat)\n",
    "plt.show()"
   ]
  },
  {
   "cell_type": "code",
   "execution_count": 306,
   "metadata": {},
   "outputs": [
    {
     "data": {
      "text/plain": [
       "region          -0.023360\n",
       "furnished       -0.013868\n",
       "size            -0.000658\n",
       "location         0.004046\n",
       "property_type    0.005835\n",
       "rooms            0.009103\n",
       "parking          0.030885\n",
       "bathroom         0.036285\n",
       "monthly_rent     1.000000\n",
       "Name: monthly_rent, dtype: float64"
      ]
     },
     "execution_count": 306,
     "metadata": {},
     "output_type": "execute_result"
    }
   ],
   "source": [
    "corr"
   ]
  },
  {
   "cell_type": "code",
   "execution_count": 14,
   "metadata": {},
   "outputs": [
    {
     "data": {
      "text/plain": [
       "[Text(0, 0.5, 'region'),\n",
       " Text(0, 1.5, 'furnished'),\n",
       " Text(0, 2.5, 'size'),\n",
       " Text(0, 3.5, 'location'),\n",
       " Text(0, 4.5, 'property_type'),\n",
       " Text(0, 5.5, 'rooms'),\n",
       " Text(0, 6.5, 'parking'),\n",
       " Text(0, 7.5, 'bathroom'),\n",
       " Text(0, 8.5, 'monthly_rent')]"
      ]
     },
     "execution_count": 14,
     "metadata": {},
     "output_type": "execute_result"
    },
    {
     "data": {
      "image/png": "[encoded data removed]",
      "text/plain": [
       "<Figure size 1500x1000 with 2 Axes>"
      ]
     },
     "metadata": {},
     "output_type": "display_data"
    }
   ],
   "source": [
    "fig, ax = plt.subplots(figsize=(15,10))\n",
    "plt.pcolor(data_codes.corr(), cmap=plt.cm.Blues)\n",
    "plt.colorbar(label=\"Correlation\", orientation=\"vertical\")\n",
    "\n",
    "ax.set_xticks(np.arange(9)+0.5)\n",
    "ax.set_yticks(np.arange(9)+0.5)\n",
    "\n",
    "ax.set_xticklabels(corr.index)\n",
    "ax.set_yticklabels(corr.index)"
   ]
  },
  {
   "cell_type": "code",
   "execution_count": 15,
   "metadata": {},
   "outputs": [],
   "source": [
    "selangor = copy.deepcopy(data[data['region']==\"Selangor\"])\n",
    "kl = copy.deepcopy(data[data['region']==\"Kuala Lumpur\"])"
   ]
  },
  {
   "cell_type": "code",
   "execution_count": 19,
   "metadata": {},
   "outputs": [],
   "source": [
    "temp = copy.deepcopy(data)"
   ]
  },
  {
   "cell_type": "code",
   "execution_count": 16,
   "metadata": {},
   "outputs": [],
   "source": [
    "all_facilities = []\n",
    "for i in range(data['facilities'].size):\n",
    "    all_facilities.extend(data['facilities'][i].split(\", \"))"
   ]
  },
  {
   "cell_type": "code",
   "execution_count": 86,
   "metadata": {},
   "outputs": [],
   "source": [
    "all_afac = []\n",
    "for i in range(data['additional_facilities'].size):\n",
    "    all_afac.extend(data['additional_facilities'][i].split(\", \"))"
   ]
  },
  {
   "cell_type": "code",
   "execution_count": 95,
   "metadata": {},
   "outputs": [],
   "source": [
    "add_facilities = set(all_afac)\n",
    "add_facilities.remove('')"
   ]
  },
  {
   "cell_type": "code",
   "execution_count": 17,
   "metadata": {},
   "outputs": [],
   "source": [
    "facilities_set = set(all_facilities)\n",
    "facilities_set.remove(\"6\")\n",
    "facilities_set.remove(\"10\")\n",
    "facilities_set.remove(\"11\")"
   ]
  },
  {
   "cell_type": "code",
   "execution_count": 50,
   "metadata": {},
   "outputs": [],
   "source": [
    "temp['facilities_list'] = temp['facilities'].str.split(\", \")\n",
    "temp['fac_num'] = temp['facilities_list'].str.len()"
   ]
  },
  {
   "cell_type": "code",
   "execution_count": 97,
   "metadata": {},
   "outputs": [],
   "source": [
    "temp['afacilities_list'] = temp['additional_facilities'].str.split(\", \")\n",
    "temp['afac_num'] = temp['afacilities_list'].str.len()"
   ]
  },
  {
   "cell_type": "code",
   "execution_count": 55,
   "metadata": {},
   "outputs": [],
   "source": [
    "temp = temp.assign(BBQ = lambda x: temp['facilities'].str.contains('Barbeque area'),\n",
    "                   Club_House = lambda x: temp['facilities'].str.contains('Club house'),\n",
    "                   Gym = lambda x: temp['facilities'].str.contains('Gymnasium'),\n",
    "                   Jog = lambda x: temp['facilities'].str.contains('Jogging Track'),\n",
    "                   Lift = lambda x: temp['facilities'].str.contains('Lift'),\n",
    "                   Minimart = lambda x: temp['facilities'].str.contains('Minimart'),\n",
    "                   MP_Hall = lambda x: temp['facilities'].str.contains('Multipurpose hall'),\n",
    "                   No_Fac = lambda x: temp['facilities'].str.contains('None'),\n",
    "                   Parking = lambda x: temp['facilities'].str.contains('Parking'),\n",
    "                   Playground = lambda x: temp['facilities'].str.contains('Playground'),\n",
    "                   Sauna = lambda x: temp['facilities'].str.contains('Sauna'),\n",
    "                   Security = lambda x: temp['facilities'].str.contains('Security'),\n",
    "                   Squash = lambda x: temp['facilities'].str.contains('Squash Court'),\n",
    "                   Pool = lambda x: temp['facilities'].str.contains('Swimming Pool'),\n",
    "                   Tennis = lambda x: temp['facilities'].str.contains('Tennis Court'),)"
   ]
  },
  {
   "cell_type": "code",
   "execution_count": 65,
   "metadata": {},
   "outputs": [],
   "source": [
    "fac_cols = temp.columns.tolist()[11:]\n",
    "fac_cols.remove('facilities_list')"
   ]
  },
  {
   "cell_type": "code",
   "execution_count": 68,
   "metadata": {},
   "outputs": [
    {
     "name": "stdout",
     "output_type": "stream",
     "text": [
      "BBQ_Area\n",
      "fac_num\n",
      "BBQ\n",
      "Club_House\n",
      "Gym\n",
      "Jog\n",
      "Lift\n",
      "Minimart\n",
      "MP_Hall\n",
      "No_Fac\n",
      "Parking\n",
      "Playground\n",
      "Sauna\n",
      "Security\n",
      "Squash\n",
      "Pool\n",
      "Tennis\n"
     ]
    }
   ],
   "source": [
    "for f in fac_cols:\n",
    "    temp[f] = temp[f].astype('category').cat.codes"
   ]
  },
  {
   "cell_type": "code",
   "execution_count": 71,
   "metadata": {},
   "outputs": [
    {
     "name": "stderr",
     "output_type": "stream",
     "text": [
      "C:\\Users\\danie\\AppData\\Local\\Temp\\ipykernel_14740\\2795221690.py:1: FutureWarning: The default value of numeric_only in DataFrame.corr is deprecated. In a future version, it will default to False. Select only valid columns or specify the value of numeric_only to silence this warning.\n",
      "  fac_corr = temp.corr()['monthly_rent']\n"
     ]
    }
   ],
   "source": [
    "fac_corr = temp.corr()['monthly_rent']"
   ]
  },
  {
   "cell_type": "code",
   "execution_count": 84,
   "metadata": {},
   "outputs": [
    {
     "data": {
      "text/html": [
       "<div>\n",
       "<style scoped>\n",
       "    .dataframe tbody tr th:only-of-type {\n",
       "        vertical-align: middle;\n",
       "    }\n",
       "\n",
       "    .dataframe tbody tr th {\n",
       "        vertical-align: top;\n",
       "    }\n",
       "\n",
       "    .dataframe thead th {\n",
       "        text-align: right;\n",
       "    }\n",
       "</style>\n",
       "<table border=\"1\" class=\"dataframe\">\n",
       "  <thead>\n",
       "    <tr style=\"text-align: right;\">\n",
       "      <th></th>\n",
       "      <th>monthly_rent</th>\n",
       "      <th>location</th>\n",
       "      <th>property_type</th>\n",
       "      <th>rooms</th>\n",
       "      <th>parking</th>\n",
       "      <th>bathroom</th>\n",
       "      <th>size</th>\n",
       "      <th>furnished</th>\n",
       "      <th>facilities</th>\n",
       "      <th>additional_facilities</th>\n",
       "      <th>...</th>\n",
       "      <th>Minimart</th>\n",
       "      <th>MP_Hall</th>\n",
       "      <th>No_Fac</th>\n",
       "      <th>Parking</th>\n",
       "      <th>Playground</th>\n",
       "      <th>Sauna</th>\n",
       "      <th>Security</th>\n",
       "      <th>Squash</th>\n",
       "      <th>Pool</th>\n",
       "      <th>Tennis</th>\n",
       "    </tr>\n",
       "  </thead>\n",
       "  <tbody>\n",
       "    <tr>\n",
       "      <th>0</th>\n",
       "      <td>4200</td>\n",
       "      <td>Taman Desa</td>\n",
       "      <td>Condominium</td>\n",
       "      <td>5</td>\n",
       "      <td>2.0</td>\n",
       "      <td>6.0</td>\n",
       "      <td>1842</td>\n",
       "      <td>Fully Furnished</td>\n",
       "      <td>Minimart, Gymnasium, Security, Playground, Swi...</td>\n",
       "      <td>Air-Cond, Cooking Allowed, Washing Machine</td>\n",
       "      <td>...</td>\n",
       "      <td>1</td>\n",
       "      <td>1</td>\n",
       "      <td>0</td>\n",
       "      <td>1</td>\n",
       "      <td>1</td>\n",
       "      <td>0</td>\n",
       "      <td>1</td>\n",
       "      <td>0</td>\n",
       "      <td>1</td>\n",
       "      <td>0</td>\n",
       "    </tr>\n",
       "    <tr>\n",
       "      <th>1</th>\n",
       "      <td>2300</td>\n",
       "      <td>Cheras</td>\n",
       "      <td>Condominium</td>\n",
       "      <td>3</td>\n",
       "      <td>1.0</td>\n",
       "      <td>2.0</td>\n",
       "      <td>1170</td>\n",
       "      <td>Partially Furnished</td>\n",
       "      <td>Playground, Parking, Barbeque area, Security, ...</td>\n",
       "      <td>Air-Cond, Cooking Allowed, Near KTM/LRT</td>\n",
       "      <td>...</td>\n",
       "      <td>0</td>\n",
       "      <td>0</td>\n",
       "      <td>0</td>\n",
       "      <td>1</td>\n",
       "      <td>1</td>\n",
       "      <td>1</td>\n",
       "      <td>1</td>\n",
       "      <td>0</td>\n",
       "      <td>1</td>\n",
       "      <td>0</td>\n",
       "    </tr>\n",
       "    <tr>\n",
       "      <th>2</th>\n",
       "      <td>1000</td>\n",
       "      <td>Taman Desa</td>\n",
       "      <td>Apartment</td>\n",
       "      <td>3</td>\n",
       "      <td>0.0</td>\n",
       "      <td>2.0</td>\n",
       "      <td>650</td>\n",
       "      <td>Fully Furnished</td>\n",
       "      <td>Minimart, Jogging Track, Lift, Swimming Pool</td>\n",
       "      <td>None</td>\n",
       "      <td>...</td>\n",
       "      <td>1</td>\n",
       "      <td>0</td>\n",
       "      <td>0</td>\n",
       "      <td>0</td>\n",
       "      <td>0</td>\n",
       "      <td>0</td>\n",
       "      <td>0</td>\n",
       "      <td>0</td>\n",
       "      <td>1</td>\n",
       "      <td>0</td>\n",
       "    </tr>\n",
       "    <tr>\n",
       "      <th>3</th>\n",
       "      <td>1700</td>\n",
       "      <td>Sentul</td>\n",
       "      <td>Apartment</td>\n",
       "      <td>2</td>\n",
       "      <td>1.0</td>\n",
       "      <td>2.0</td>\n",
       "      <td>743</td>\n",
       "      <td>Partially Furnished</td>\n",
       "      <td>Parking, Playground, Swimming Pool, Squash Cou...</td>\n",
       "      <td>Cooking Allowed, Near KTM/LRT, Washing Machine</td>\n",
       "      <td>...</td>\n",
       "      <td>1</td>\n",
       "      <td>0</td>\n",
       "      <td>0</td>\n",
       "      <td>1</td>\n",
       "      <td>1</td>\n",
       "      <td>0</td>\n",
       "      <td>1</td>\n",
       "      <td>1</td>\n",
       "      <td>1</td>\n",
       "      <td>0</td>\n",
       "    </tr>\n",
       "    <tr>\n",
       "      <th>4</th>\n",
       "      <td>1299</td>\n",
       "      <td>Mont Kiara</td>\n",
       "      <td>Service Residence</td>\n",
       "      <td>1</td>\n",
       "      <td>1.0</td>\n",
       "      <td>1.0</td>\n",
       "      <td>494</td>\n",
       "      <td>Not Furnished</td>\n",
       "      <td>Parking, Security, Lift, Swimming Pool, Playgr...</td>\n",
       "      <td>Air-Cond</td>\n",
       "      <td>...</td>\n",
       "      <td>1</td>\n",
       "      <td>1</td>\n",
       "      <td>0</td>\n",
       "      <td>1</td>\n",
       "      <td>1</td>\n",
       "      <td>0</td>\n",
       "      <td>1</td>\n",
       "      <td>0</td>\n",
       "      <td>1</td>\n",
       "      <td>0</td>\n",
       "    </tr>\n",
       "    <tr>\n",
       "      <th>...</th>\n",
       "      <td>...</td>\n",
       "      <td>...</td>\n",
       "      <td>...</td>\n",
       "      <td>...</td>\n",
       "      <td>...</td>\n",
       "      <td>...</td>\n",
       "      <td>...</td>\n",
       "      <td>...</td>\n",
       "      <td>...</td>\n",
       "      <td>...</td>\n",
       "      <td>...</td>\n",
       "      <td>...</td>\n",
       "      <td>...</td>\n",
       "      <td>...</td>\n",
       "      <td>...</td>\n",
       "      <td>...</td>\n",
       "      <td>...</td>\n",
       "      <td>...</td>\n",
       "      <td>...</td>\n",
       "      <td>...</td>\n",
       "      <td>...</td>\n",
       "    </tr>\n",
       "    <tr>\n",
       "      <th>19981</th>\n",
       "      <td>1200</td>\n",
       "      <td>Kajang</td>\n",
       "      <td>Apartment</td>\n",
       "      <td>3.0</td>\n",
       "      <td>0.0</td>\n",
       "      <td>2.0</td>\n",
       "      <td>1000</td>\n",
       "      <td>Partially Furnished</td>\n",
       "      <td>Security, Parking, Lift, Minimart, Multipurpos...</td>\n",
       "      <td>Near KTM/LRT</td>\n",
       "      <td>...</td>\n",
       "      <td>1</td>\n",
       "      <td>1</td>\n",
       "      <td>0</td>\n",
       "      <td>1</td>\n",
       "      <td>1</td>\n",
       "      <td>0</td>\n",
       "      <td>1</td>\n",
       "      <td>0</td>\n",
       "      <td>0</td>\n",
       "      <td>0</td>\n",
       "    </tr>\n",
       "    <tr>\n",
       "      <th>19982</th>\n",
       "      <td>1300</td>\n",
       "      <td>Bandar Saujana Putra</td>\n",
       "      <td>Service Residence</td>\n",
       "      <td>4.0</td>\n",
       "      <td>2.0</td>\n",
       "      <td>3.0</td>\n",
       "      <td>1427</td>\n",
       "      <td>Partially Furnished</td>\n",
       "      <td>Jogging Track, Barbeque area, Playground, Swim...</td>\n",
       "      <td>Air-Cond, Cooking Allowed</td>\n",
       "      <td>...</td>\n",
       "      <td>0</td>\n",
       "      <td>0</td>\n",
       "      <td>0</td>\n",
       "      <td>0</td>\n",
       "      <td>1</td>\n",
       "      <td>1</td>\n",
       "      <td>0</td>\n",
       "      <td>0</td>\n",
       "      <td>1</td>\n",
       "      <td>1</td>\n",
       "    </tr>\n",
       "    <tr>\n",
       "      <th>19983</th>\n",
       "      <td>1350</td>\n",
       "      <td>Kajang</td>\n",
       "      <td>Condominium</td>\n",
       "      <td>3.0</td>\n",
       "      <td>2.0</td>\n",
       "      <td>2.0</td>\n",
       "      <td>1270</td>\n",
       "      <td>Partially Furnished</td>\n",
       "      <td>Parking, Security, Lift, Swimming Pool, Playgr...</td>\n",
       "      <td>Air-Cond, Cooking Allowed, Washing Machine</td>\n",
       "      <td>...</td>\n",
       "      <td>0</td>\n",
       "      <td>1</td>\n",
       "      <td>0</td>\n",
       "      <td>1</td>\n",
       "      <td>1</td>\n",
       "      <td>0</td>\n",
       "      <td>1</td>\n",
       "      <td>0</td>\n",
       "      <td>1</td>\n",
       "      <td>0</td>\n",
       "    </tr>\n",
       "    <tr>\n",
       "      <th>19984</th>\n",
       "      <td>1200</td>\n",
       "      <td>Cyberjaya</td>\n",
       "      <td>Service Residence</td>\n",
       "      <td>3.0</td>\n",
       "      <td>1.0</td>\n",
       "      <td>2.0</td>\n",
       "      <td>1100</td>\n",
       "      <td>Fully Furnished</td>\n",
       "      <td>Parking, Security, Lift, Swimming Pool, Playgr...</td>\n",
       "      <td>Cooking Allowed, Washing Machine</td>\n",
       "      <td>...</td>\n",
       "      <td>1</td>\n",
       "      <td>1</td>\n",
       "      <td>0</td>\n",
       "      <td>1</td>\n",
       "      <td>1</td>\n",
       "      <td>1</td>\n",
       "      <td>1</td>\n",
       "      <td>1</td>\n",
       "      <td>1</td>\n",
       "      <td>1</td>\n",
       "    </tr>\n",
       "    <tr>\n",
       "      <th>19985</th>\n",
       "      <td>1000</td>\n",
       "      <td>Cyberjaya</td>\n",
       "      <td>Studio</td>\n",
       "      <td>1.0</td>\n",
       "      <td>1.0</td>\n",
       "      <td>1.0</td>\n",
       "      <td>580</td>\n",
       "      <td>Partially Furnished</td>\n",
       "      <td>Parking, Security, Lift, Swimming Pool, Playgr...</td>\n",
       "      <td>Air-Cond, Cooking Allowed, Washing Machine</td>\n",
       "      <td>...</td>\n",
       "      <td>1</td>\n",
       "      <td>1</td>\n",
       "      <td>0</td>\n",
       "      <td>1</td>\n",
       "      <td>1</td>\n",
       "      <td>1</td>\n",
       "      <td>1</td>\n",
       "      <td>1</td>\n",
       "      <td>1</td>\n",
       "      <td>1</td>\n",
       "    </tr>\n",
       "  </tbody>\n",
       "</table>\n",
       "<p>19986 rows × 29 columns</p>\n",
       "</div>"
      ],
      "text/plain": [
       "       monthly_rent              location      property_type rooms  parking  \\\n",
       "0              4200            Taman Desa        Condominium     5      2.0   \n",
       "1              2300                Cheras        Condominium     3      1.0   \n",
       "2              1000            Taman Desa          Apartment     3      0.0   \n",
       "3              1700                Sentul          Apartment     2      1.0   \n",
       "4              1299            Mont Kiara  Service Residence     1      1.0   \n",
       "...             ...                   ...                ...   ...      ...   \n",
       "19981          1200                Kajang          Apartment   3.0      0.0   \n",
       "19982          1300  Bandar Saujana Putra  Service Residence   4.0      2.0   \n",
       "19983          1350                Kajang        Condominium   3.0      2.0   \n",
       "19984          1200             Cyberjaya  Service Residence   3.0      1.0   \n",
       "19985          1000             Cyberjaya             Studio   1.0      1.0   \n",
       "\n",
       "       bathroom  size            furnished  \\\n",
       "0           6.0  1842      Fully Furnished   \n",
       "1           2.0  1170  Partially Furnished   \n",
       "2           2.0   650      Fully Furnished   \n",
       "3           2.0   743  Partially Furnished   \n",
       "4           1.0   494        Not Furnished   \n",
       "...         ...   ...                  ...   \n",
       "19981       2.0  1000  Partially Furnished   \n",
       "19982       3.0  1427  Partially Furnished   \n",
       "19983       2.0  1270  Partially Furnished   \n",
       "19984       2.0  1100      Fully Furnished   \n",
       "19985       1.0   580  Partially Furnished   \n",
       "\n",
       "                                              facilities  \\\n",
       "0      Minimart, Gymnasium, Security, Playground, Swi...   \n",
       "1      Playground, Parking, Barbeque area, Security, ...   \n",
       "2           Minimart, Jogging Track, Lift, Swimming Pool   \n",
       "3      Parking, Playground, Swimming Pool, Squash Cou...   \n",
       "4      Parking, Security, Lift, Swimming Pool, Playgr...   \n",
       "...                                                  ...   \n",
       "19981  Security, Parking, Lift, Minimart, Multipurpos...   \n",
       "19982  Jogging Track, Barbeque area, Playground, Swim...   \n",
       "19983  Parking, Security, Lift, Swimming Pool, Playgr...   \n",
       "19984  Parking, Security, Lift, Swimming Pool, Playgr...   \n",
       "19985  Parking, Security, Lift, Swimming Pool, Playgr...   \n",
       "\n",
       "                                additional_facilities  ... Minimart  MP_Hall  \\\n",
       "0          Air-Cond, Cooking Allowed, Washing Machine  ...        1        1   \n",
       "1             Air-Cond, Cooking Allowed, Near KTM/LRT  ...        0        0   \n",
       "2                                                None  ...        1        0   \n",
       "3      Cooking Allowed, Near KTM/LRT, Washing Machine  ...        1        0   \n",
       "4                                            Air-Cond  ...        1        1   \n",
       "...                                               ...  ...      ...      ...   \n",
       "19981                                    Near KTM/LRT  ...        1        1   \n",
       "19982                       Air-Cond, Cooking Allowed  ...        0        0   \n",
       "19983      Air-Cond, Cooking Allowed, Washing Machine  ...        0        1   \n",
       "19984                Cooking Allowed, Washing Machine  ...        1        1   \n",
       "19985      Air-Cond, Cooking Allowed, Washing Machine  ...        1        1   \n",
       "\n",
       "       No_Fac Parking  Playground  Sauna  Security  Squash  Pool  Tennis  \n",
       "0           0       1           1      0         1       0     1       0  \n",
       "1           0       1           1      1         1       0     1       0  \n",
       "2           0       0           0      0         0       0     1       0  \n",
       "3           0       1           1      0         1       1     1       0  \n",
       "4           0       1           1      0         1       0     1       0  \n",
       "...       ...     ...         ...    ...       ...     ...   ...     ...  \n",
       "19981       0       1           1      0         1       0     0       0  \n",
       "19982       0       0           1      1         0       0     1       1  \n",
       "19983       0       1           1      0         1       0     1       0  \n",
       "19984       0       1           1      1         1       1     1       1  \n",
       "19985       0       1           1      1         1       1     1       1  \n",
       "\n",
       "[19986 rows x 29 columns]"
      ]
     },
     "execution_count": 84,
     "metadata": {},
     "output_type": "execute_result"
    }
   ],
   "source": [
    "temp"
   ]
  },
  {
   "cell_type": "code",
   "execution_count": null,
   "metadata": {},
   "outputs": [],
   "source": []
  },
  {
   "cell_type": "code",
   "execution_count": 83,
   "metadata": {},
   "outputs": [
    {
     "data": {
      "text/plain": [
       "Text(0.5, 1.0, 'Absolute Correlation of Rental Attributes with Monthly Rent')"
      ]
     },
     "execution_count": 83,
     "metadata": {},
     "output_type": "execute_result"
    },
    {
     "data": {
      "image/png": "[encoded data removed]",
      "text/plain": [
       "<Figure size 1000x400 with 1 Axes>"
      ]
     },
     "metadata": {},
     "output_type": "display_data"
    }
   ],
   "source": [
    "fig = plt.figure(figsize=(10,4))\n",
    "X_axis = np.arange(len(fac_corr)-4)\n",
    "\n",
    "plt.bar(X_axis, fac_corr[4:], width=0.4)\n",
    "plt.axhline(0, color='grey', linewidth='0.5')\n",
    "plt.xticks(X_axis, fac_corr.index.tolist()[4:], rotation=45)\n",
    "plt.title(\"Absolute Correlation of Rental Attributes with Monthly Rent\")"
   ]
  },
  {
   "cell_type": "code",
   "execution_count": null,
   "metadata": {},
   "outputs": [],
   "source": []
  }
 ],
 "metadata": {
  "kernelspec": {
   "display_name": "Python 3",
   "language": "python",
   "name": "python3"
  },
  "language_info": {
   "codemirror_mode": {
    "name": "ipython",
    "version": 3
   },
   "file_extension": ".py",
   "mimetype": "text/x-python",
   "name": "python",
   "nbconvert_exporter": "python",
   "pygments_lexer": "ipython3",
   "version": "3.11.4"
  }
 },
 "nbformat": 4,
 "nbformat_minor": 2
}
