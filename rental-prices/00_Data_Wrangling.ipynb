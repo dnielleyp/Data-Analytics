{
 "cells": [
  {
   "cell_type": "markdown",
   "metadata": {},
   "source": [
    "### rental-prices-selangor-kl data wrangling"
   ]
  },
  {
   "cell_type": "markdown",
   "metadata": {},
   "source": [
    "### Imports"
   ]
  },
  {
   "cell_type": "code",
   "execution_count": 1,
   "metadata": {},
   "outputs": [
    {
     "name": "stdout",
     "output_type": "stream",
     "text": [
      "ERROR! Session/line number was not unique in database. History logging moved to new session 511\n"
     ]
    }
   ],
   "source": [
    "import pandas as pd \n",
    "import matplotlib.pyplot as plt \n",
    "import numpy as np \n",
    "\n",
    "pd.options.display.float_format = '{:.0f}'.format"
   ]
  },
  {
   "cell_type": "markdown",
   "metadata": {},
   "source": [
    "### Goal\n",
    "\n",
    "The goal is the analyse what factors determine the rental prices in Selangor and KL, as well as creating a model to predict the rental prices based on the property factors"
   ]
  },
  {
   "cell_type": "markdown",
   "metadata": {},
   "source": [
    "### Data Source\n",
    "\n",
    "The data is sourced from Kaggle where it was scraped from mudah.my"
   ]
  },
  {
   "cell_type": "markdown",
   "metadata": {},
   "source": [
    "### Data Loading"
   ]
  },
  {
   "cell_type": "code",
   "execution_count": 2,
   "metadata": {},
   "outputs": [],
   "source": [
    "path = \"../data/mudah-apartment-kl-selangor.csv\""
   ]
  },
  {
   "cell_type": "code",
   "execution_count": 3,
   "metadata": {},
   "outputs": [],
   "source": [
    "data = pd.read_csv(path)"
   ]
  },
  {
   "cell_type": "code",
   "execution_count": 4,
   "metadata": {},
   "outputs": [
    {
     "name": "stdout",
     "output_type": "stream",
     "text": [
      "<class 'pandas.core.frame.DataFrame'>\n",
      "RangeIndex: 19991 entries, 0 to 19990\n",
      "Data columns (total 14 columns):\n",
      " #   Column                 Non-Null Count  Dtype  \n",
      "---  ------                 --------------  -----  \n",
      " 0   ads_id                 19991 non-null  int64  \n",
      " 1   prop_name              19043 non-null  object \n",
      " 2   completion_year        10806 non-null  float64\n",
      " 3   monthly_rent           19989 non-null  object \n",
      " 4   location               19991 non-null  object \n",
      " 5   property_type          19991 non-null  object \n",
      " 6   rooms                  19985 non-null  object \n",
      " 7   parking                14289 non-null  float64\n",
      " 8   bathroom               19985 non-null  float64\n",
      " 9   size                   19991 non-null  object \n",
      " 10  furnished              19986 non-null  object \n",
      " 11  facilities             17782 non-null  object \n",
      " 12  additional_facilities  14043 non-null  object \n",
      " 13  region                 19991 non-null  object \n",
      "dtypes: float64(3), int64(1), object(10)\n",
      "memory usage: 2.1+ MB\n"
     ]
    }
   ],
   "source": [
    "data.info()"
   ]
  },
  {
   "cell_type": "markdown",
   "metadata": {},
   "source": [
    "Assuming that each property should have a unique ads_id, we remove any duplicate listings"
   ]
  },
  {
   "cell_type": "code",
   "execution_count": 5,
   "metadata": {},
   "outputs": [],
   "source": [
    "data = data.drop_duplicates(['ads_id'], keep='first')"
   ]
  },
  {
   "cell_type": "markdown",
   "metadata": {},
   "source": [
    "Data shape is:"
   ]
  },
  {
   "cell_type": "code",
   "execution_count": 6,
   "metadata": {},
   "outputs": [
    {
     "data": {
      "text/plain": [
       "(19978, 14)"
      ]
     },
     "execution_count": 6,
     "metadata": {},
     "output_type": "execute_result"
    }
   ],
   "source": [
    "data.shape"
   ]
  },
  {
   "cell_type": "markdown",
   "metadata": {},
   "source": [
    "### Data Type Conversion\n",
    "\n",
    "Ensure that the data types of each column is correct before we perform data exploration since some data are numeric but formatted in string. This would cause difficulties in checking for outliers."
   ]
  },
  {
   "cell_type": "code",
   "execution_count": 7,
   "metadata": {},
   "outputs": [
    {
     "data": {
      "text/plain": [
       "ads_id                     int64\n",
       "prop_name                 object\n",
       "completion_year          float64\n",
       "monthly_rent              object\n",
       "location                  object\n",
       "property_type             object\n",
       "rooms                     object\n",
       "parking                  float64\n",
       "bathroom                 float64\n",
       "size                      object\n",
       "furnished                 object\n",
       "facilities                object\n",
       "additional_facilities     object\n",
       "region                    object\n",
       "dtype: object"
      ]
     },
     "execution_count": 7,
     "metadata": {},
     "output_type": "execute_result"
    }
   ],
   "source": [
    "data.dtypes"
   ]
  },
  {
   "cell_type": "markdown",
   "metadata": {},
   "source": [
    "Let's take a look at the dataset"
   ]
  },
  {
   "cell_type": "code",
   "execution_count": 8,
   "metadata": {},
   "outputs": [
    {
     "data": {
      "text/html": [
       "<div>\n",
       "<style scoped>\n",
       "    .dataframe tbody tr th:only-of-type {\n",
       "        vertical-align: middle;\n",
       "    }\n",
       "\n",
       "    .dataframe tbody tr th {\n",
       "        vertical-align: top;\n",
       "    }\n",
       "\n",
       "    .dataframe thead th {\n",
       "        text-align: right;\n",
       "    }\n",
       "</style>\n",
       "<table border=\"1\" class=\"dataframe\">\n",
       "  <thead>\n",
       "    <tr style=\"text-align: right;\">\n",
       "      <th></th>\n",
       "      <th>ads_id</th>\n",
       "      <th>prop_name</th>\n",
       "      <th>completion_year</th>\n",
       "      <th>monthly_rent</th>\n",
       "      <th>location</th>\n",
       "      <th>property_type</th>\n",
       "      <th>rooms</th>\n",
       "      <th>parking</th>\n",
       "      <th>bathroom</th>\n",
       "      <th>size</th>\n",
       "      <th>furnished</th>\n",
       "      <th>facilities</th>\n",
       "      <th>additional_facilities</th>\n",
       "      <th>region</th>\n",
       "    </tr>\n",
       "  </thead>\n",
       "  <tbody>\n",
       "    <tr>\n",
       "      <th>0</th>\n",
       "      <td>100323185</td>\n",
       "      <td>The Hipster @ Taman Desa</td>\n",
       "      <td>2022</td>\n",
       "      <td>RM 4 200 per month</td>\n",
       "      <td>Kuala Lumpur - Taman Desa</td>\n",
       "      <td>Condominium</td>\n",
       "      <td>5</td>\n",
       "      <td>2</td>\n",
       "      <td>6</td>\n",
       "      <td>1842 sq.ft.</td>\n",
       "      <td>Fully Furnished</td>\n",
       "      <td>Minimart, Gymnasium, Security, Playground, Swi...</td>\n",
       "      <td>Air-Cond, Cooking Allowed, Washing Machine</td>\n",
       "      <td>Kuala Lumpur</td>\n",
       "    </tr>\n",
       "    <tr>\n",
       "      <th>1</th>\n",
       "      <td>100203973</td>\n",
       "      <td>Segar Courts</td>\n",
       "      <td>NaN</td>\n",
       "      <td>RM 2 300 per month</td>\n",
       "      <td>Kuala Lumpur - Cheras</td>\n",
       "      <td>Condominium</td>\n",
       "      <td>3</td>\n",
       "      <td>1</td>\n",
       "      <td>2</td>\n",
       "      <td>1170 sq.ft.</td>\n",
       "      <td>Partially Furnished</td>\n",
       "      <td>Playground, Parking, Barbeque area, Security, ...</td>\n",
       "      <td>Air-Cond, Cooking Allowed, Near KTM/LRT</td>\n",
       "      <td>Kuala Lumpur</td>\n",
       "    </tr>\n",
       "    <tr>\n",
       "      <th>2</th>\n",
       "      <td>100323128</td>\n",
       "      <td>Pangsapuri Teratak Muhibbah 2</td>\n",
       "      <td>NaN</td>\n",
       "      <td>RM 1 000 per month</td>\n",
       "      <td>Kuala Lumpur - Taman Desa</td>\n",
       "      <td>Apartment</td>\n",
       "      <td>3</td>\n",
       "      <td>NaN</td>\n",
       "      <td>2</td>\n",
       "      <td>650 sq.ft.</td>\n",
       "      <td>Fully Furnished</td>\n",
       "      <td>Minimart, Jogging Track, Lift, Swimming Pool</td>\n",
       "      <td>NaN</td>\n",
       "      <td>Kuala Lumpur</td>\n",
       "    </tr>\n",
       "    <tr>\n",
       "      <th>3</th>\n",
       "      <td>100191767</td>\n",
       "      <td>Sentul Point Suite Apartment</td>\n",
       "      <td>2020</td>\n",
       "      <td>RM 1 700 per month</td>\n",
       "      <td>Kuala Lumpur - Sentul</td>\n",
       "      <td>Apartment</td>\n",
       "      <td>2</td>\n",
       "      <td>1</td>\n",
       "      <td>2</td>\n",
       "      <td>743 sq.ft.</td>\n",
       "      <td>Partially Furnished</td>\n",
       "      <td>Parking, Playground, Swimming Pool, Squash Cou...</td>\n",
       "      <td>Cooking Allowed, Near KTM/LRT, Washing Machine</td>\n",
       "      <td>Kuala Lumpur</td>\n",
       "    </tr>\n",
       "    <tr>\n",
       "      <th>4</th>\n",
       "      <td>97022692</td>\n",
       "      <td>Arte Mont Kiara</td>\n",
       "      <td>NaN</td>\n",
       "      <td>RM 1 299 per month</td>\n",
       "      <td>Kuala Lumpur - Mont Kiara</td>\n",
       "      <td>Service Residence</td>\n",
       "      <td>1</td>\n",
       "      <td>1</td>\n",
       "      <td>1</td>\n",
       "      <td>494 sq.ft.</td>\n",
       "      <td>Not Furnished</td>\n",
       "      <td>Parking, Security, Lift, Swimming Pool, Playgr...</td>\n",
       "      <td>Air-Cond</td>\n",
       "      <td>Kuala Lumpur</td>\n",
       "    </tr>\n",
       "  </tbody>\n",
       "</table>\n",
       "</div>"
      ],
      "text/plain": [
       "      ads_id                      prop_name  completion_year  \\\n",
       "0  100323185       The Hipster @ Taman Desa             2022   \n",
       "1  100203973                   Segar Courts              NaN   \n",
       "2  100323128  Pangsapuri Teratak Muhibbah 2              NaN   \n",
       "3  100191767   Sentul Point Suite Apartment             2020   \n",
       "4   97022692                Arte Mont Kiara              NaN   \n",
       "\n",
       "         monthly_rent                   location      property_type rooms  \\\n",
       "0  RM 4 200 per month  Kuala Lumpur - Taman Desa        Condominium     5   \n",
       "1  RM 2 300 per month      Kuala Lumpur - Cheras        Condominium     3   \n",
       "2  RM 1 000 per month  Kuala Lumpur - Taman Desa          Apartment     3   \n",
       "3  RM 1 700 per month      Kuala Lumpur - Sentul          Apartment     2   \n",
       "4  RM 1 299 per month  Kuala Lumpur - Mont Kiara  Service Residence     1   \n",
       "\n",
       "   parking  bathroom         size            furnished  \\\n",
       "0        2         6  1842 sq.ft.      Fully Furnished   \n",
       "1        1         2  1170 sq.ft.  Partially Furnished   \n",
       "2      NaN         2   650 sq.ft.      Fully Furnished   \n",
       "3        1         2   743 sq.ft.  Partially Furnished   \n",
       "4        1         1   494 sq.ft.        Not Furnished   \n",
       "\n",
       "                                          facilities  \\\n",
       "0  Minimart, Gymnasium, Security, Playground, Swi...   \n",
       "1  Playground, Parking, Barbeque area, Security, ...   \n",
       "2       Minimart, Jogging Track, Lift, Swimming Pool   \n",
       "3  Parking, Playground, Swimming Pool, Squash Cou...   \n",
       "4  Parking, Security, Lift, Swimming Pool, Playgr...   \n",
       "\n",
       "                            additional_facilities        region  \n",
       "0      Air-Cond, Cooking Allowed, Washing Machine  Kuala Lumpur  \n",
       "1         Air-Cond, Cooking Allowed, Near KTM/LRT  Kuala Lumpur  \n",
       "2                                             NaN  Kuala Lumpur  \n",
       "3  Cooking Allowed, Near KTM/LRT, Washing Machine  Kuala Lumpur  \n",
       "4                                        Air-Cond  Kuala Lumpur  "
      ]
     },
     "execution_count": 8,
     "metadata": {},
     "output_type": "execute_result"
    }
   ],
   "source": [
    "data.head()"
   ]
  },
  {
   "cell_type": "markdown",
   "metadata": {},
   "source": [
    "`monthly_rent` is a numerical value but formatted with \"RM\" and \"per month\". "
   ]
  },
  {
   "cell_type": "code",
   "execution_count": 9,
   "metadata": {},
   "outputs": [],
   "source": [
    "data['monthly_rent'] = data['monthly_rent'].str.replace(\" \", '').str.extract('(\\d+)')\n",
    "data['monthly_rent'] = pd.to_numeric(data['monthly_rent'])"
   ]
  },
  {
   "cell_type": "markdown",
   "metadata": {},
   "source": [
    "The same thing is done for `size`"
   ]
  },
  {
   "cell_type": "code",
   "execution_count": 10,
   "metadata": {},
   "outputs": [],
   "source": [
    "data['size'] = data['size'].str.replace(\" \", '').str.extract('(\\d+)')\n",
    "data['size'] =  pd.to_numeric(data['size'])"
   ]
  },
  {
   "cell_type": "code",
   "execution_count": 11,
   "metadata": {},
   "outputs": [
    {
     "data": {
      "text/html": [
       "<div>\n",
       "<style scoped>\n",
       "    .dataframe tbody tr th:only-of-type {\n",
       "        vertical-align: middle;\n",
       "    }\n",
       "\n",
       "    .dataframe tbody tr th {\n",
       "        vertical-align: top;\n",
       "    }\n",
       "\n",
       "    .dataframe thead th {\n",
       "        text-align: right;\n",
       "    }\n",
       "</style>\n",
       "<table border=\"1\" class=\"dataframe\">\n",
       "  <thead>\n",
       "    <tr style=\"text-align: right;\">\n",
       "      <th></th>\n",
       "      <th>ads_id</th>\n",
       "      <th>prop_name</th>\n",
       "      <th>completion_year</th>\n",
       "      <th>monthly_rent</th>\n",
       "      <th>location</th>\n",
       "      <th>property_type</th>\n",
       "      <th>rooms</th>\n",
       "      <th>parking</th>\n",
       "      <th>bathroom</th>\n",
       "      <th>size</th>\n",
       "      <th>furnished</th>\n",
       "      <th>facilities</th>\n",
       "      <th>additional_facilities</th>\n",
       "      <th>region</th>\n",
       "    </tr>\n",
       "  </thead>\n",
       "  <tbody>\n",
       "    <tr>\n",
       "      <th>0</th>\n",
       "      <td>100323185</td>\n",
       "      <td>The Hipster @ Taman Desa</td>\n",
       "      <td>2022</td>\n",
       "      <td>4200</td>\n",
       "      <td>Kuala Lumpur - Taman Desa</td>\n",
       "      <td>Condominium</td>\n",
       "      <td>5</td>\n",
       "      <td>2</td>\n",
       "      <td>6</td>\n",
       "      <td>1842</td>\n",
       "      <td>Fully Furnished</td>\n",
       "      <td>Minimart, Gymnasium, Security, Playground, Swi...</td>\n",
       "      <td>Air-Cond, Cooking Allowed, Washing Machine</td>\n",
       "      <td>Kuala Lumpur</td>\n",
       "    </tr>\n",
       "    <tr>\n",
       "      <th>1</th>\n",
       "      <td>100203973</td>\n",
       "      <td>Segar Courts</td>\n",
       "      <td>NaN</td>\n",
       "      <td>2300</td>\n",
       "      <td>Kuala Lumpur - Cheras</td>\n",
       "      <td>Condominium</td>\n",
       "      <td>3</td>\n",
       "      <td>1</td>\n",
       "      <td>2</td>\n",
       "      <td>1170</td>\n",
       "      <td>Partially Furnished</td>\n",
       "      <td>Playground, Parking, Barbeque area, Security, ...</td>\n",
       "      <td>Air-Cond, Cooking Allowed, Near KTM/LRT</td>\n",
       "      <td>Kuala Lumpur</td>\n",
       "    </tr>\n",
       "    <tr>\n",
       "      <th>2</th>\n",
       "      <td>100323128</td>\n",
       "      <td>Pangsapuri Teratak Muhibbah 2</td>\n",
       "      <td>NaN</td>\n",
       "      <td>1000</td>\n",
       "      <td>Kuala Lumpur - Taman Desa</td>\n",
       "      <td>Apartment</td>\n",
       "      <td>3</td>\n",
       "      <td>NaN</td>\n",
       "      <td>2</td>\n",
       "      <td>650</td>\n",
       "      <td>Fully Furnished</td>\n",
       "      <td>Minimart, Jogging Track, Lift, Swimming Pool</td>\n",
       "      <td>NaN</td>\n",
       "      <td>Kuala Lumpur</td>\n",
       "    </tr>\n",
       "    <tr>\n",
       "      <th>3</th>\n",
       "      <td>100191767</td>\n",
       "      <td>Sentul Point Suite Apartment</td>\n",
       "      <td>2020</td>\n",
       "      <td>1700</td>\n",
       "      <td>Kuala Lumpur - Sentul</td>\n",
       "      <td>Apartment</td>\n",
       "      <td>2</td>\n",
       "      <td>1</td>\n",
       "      <td>2</td>\n",
       "      <td>743</td>\n",
       "      <td>Partially Furnished</td>\n",
       "      <td>Parking, Playground, Swimming Pool, Squash Cou...</td>\n",
       "      <td>Cooking Allowed, Near KTM/LRT, Washing Machine</td>\n",
       "      <td>Kuala Lumpur</td>\n",
       "    </tr>\n",
       "    <tr>\n",
       "      <th>4</th>\n",
       "      <td>97022692</td>\n",
       "      <td>Arte Mont Kiara</td>\n",
       "      <td>NaN</td>\n",
       "      <td>1299</td>\n",
       "      <td>Kuala Lumpur - Mont Kiara</td>\n",
       "      <td>Service Residence</td>\n",
       "      <td>1</td>\n",
       "      <td>1</td>\n",
       "      <td>1</td>\n",
       "      <td>494</td>\n",
       "      <td>Not Furnished</td>\n",
       "      <td>Parking, Security, Lift, Swimming Pool, Playgr...</td>\n",
       "      <td>Air-Cond</td>\n",
       "      <td>Kuala Lumpur</td>\n",
       "    </tr>\n",
       "  </tbody>\n",
       "</table>\n",
       "</div>"
      ],
      "text/plain": [
       "      ads_id                      prop_name  completion_year  monthly_rent  \\\n",
       "0  100323185       The Hipster @ Taman Desa             2022          4200   \n",
       "1  100203973                   Segar Courts              NaN          2300   \n",
       "2  100323128  Pangsapuri Teratak Muhibbah 2              NaN          1000   \n",
       "3  100191767   Sentul Point Suite Apartment             2020          1700   \n",
       "4   97022692                Arte Mont Kiara              NaN          1299   \n",
       "\n",
       "                    location      property_type rooms  parking  bathroom  \\\n",
       "0  Kuala Lumpur - Taman Desa        Condominium     5        2         6   \n",
       "1      Kuala Lumpur - Cheras        Condominium     3        1         2   \n",
       "2  Kuala Lumpur - Taman Desa          Apartment     3      NaN         2   \n",
       "3      Kuala Lumpur - Sentul          Apartment     2        1         2   \n",
       "4  Kuala Lumpur - Mont Kiara  Service Residence     1        1         1   \n",
       "\n",
       "   size            furnished  \\\n",
       "0  1842      Fully Furnished   \n",
       "1  1170  Partially Furnished   \n",
       "2   650      Fully Furnished   \n",
       "3   743  Partially Furnished   \n",
       "4   494        Not Furnished   \n",
       "\n",
       "                                          facilities  \\\n",
       "0  Minimart, Gymnasium, Security, Playground, Swi...   \n",
       "1  Playground, Parking, Barbeque area, Security, ...   \n",
       "2       Minimart, Jogging Track, Lift, Swimming Pool   \n",
       "3  Parking, Playground, Swimming Pool, Squash Cou...   \n",
       "4  Parking, Security, Lift, Swimming Pool, Playgr...   \n",
       "\n",
       "                            additional_facilities        region  \n",
       "0      Air-Cond, Cooking Allowed, Washing Machine  Kuala Lumpur  \n",
       "1         Air-Cond, Cooking Allowed, Near KTM/LRT  Kuala Lumpur  \n",
       "2                                             NaN  Kuala Lumpur  \n",
       "3  Cooking Allowed, Near KTM/LRT, Washing Machine  Kuala Lumpur  \n",
       "4                                        Air-Cond  Kuala Lumpur  "
      ]
     },
     "execution_count": 11,
     "metadata": {},
     "output_type": "execute_result"
    }
   ],
   "source": [
    "data.head()"
   ]
  },
  {
   "cell_type": "markdown",
   "metadata": {},
   "source": [
    "### Data Exploration\n",
    "\n",
    "Check for any missing values that we have to deal with"
   ]
  },
  {
   "cell_type": "code",
   "execution_count": 12,
   "metadata": {},
   "outputs": [
    {
     "data": {
      "text/html": [
       "<div>\n",
       "<style scoped>\n",
       "    .dataframe tbody tr th:only-of-type {\n",
       "        vertical-align: middle;\n",
       "    }\n",
       "\n",
       "    .dataframe tbody tr th {\n",
       "        vertical-align: top;\n",
       "    }\n",
       "\n",
       "    .dataframe thead th {\n",
       "        text-align: right;\n",
       "    }\n",
       "</style>\n",
       "<table border=\"1\" class=\"dataframe\">\n",
       "  <thead>\n",
       "    <tr style=\"text-align: right;\">\n",
       "      <th></th>\n",
       "      <th>Missing Count</th>\n",
       "    </tr>\n",
       "  </thead>\n",
       "  <tbody>\n",
       "    <tr>\n",
       "      <th>completion_year</th>\n",
       "      <td>9180</td>\n",
       "    </tr>\n",
       "    <tr>\n",
       "      <th>additional_facilities</th>\n",
       "      <td>5944</td>\n",
       "    </tr>\n",
       "    <tr>\n",
       "      <th>parking</th>\n",
       "      <td>5698</td>\n",
       "    </tr>\n",
       "    <tr>\n",
       "      <th>facilities</th>\n",
       "      <td>2208</td>\n",
       "    </tr>\n",
       "    <tr>\n",
       "      <th>prop_name</th>\n",
       "      <td>948</td>\n",
       "    </tr>\n",
       "    <tr>\n",
       "      <th>rooms</th>\n",
       "      <td>6</td>\n",
       "    </tr>\n",
       "    <tr>\n",
       "      <th>bathroom</th>\n",
       "      <td>6</td>\n",
       "    </tr>\n",
       "    <tr>\n",
       "      <th>furnished</th>\n",
       "      <td>5</td>\n",
       "    </tr>\n",
       "    <tr>\n",
       "      <th>monthly_rent</th>\n",
       "      <td>2</td>\n",
       "    </tr>\n",
       "  </tbody>\n",
       "</table>\n",
       "</div>"
      ],
      "text/plain": [
       "                       Missing Count\n",
       "completion_year                 9180\n",
       "additional_facilities           5944\n",
       "parking                         5698\n",
       "facilities                      2208\n",
       "prop_name                        948\n",
       "rooms                              6\n",
       "bathroom                           6\n",
       "furnished                          5\n",
       "monthly_rent                       2"
      ]
     },
     "execution_count": 12,
     "metadata": {},
     "output_type": "execute_result"
    }
   ],
   "source": [
    "missing = data.isna().sum(axis=0)\n",
    "missing.name = 'Missing Count'\n",
    "missing = missing.to_frame()\n",
    "missing = missing[missing['Missing Count']>0]\n",
    "missing.sort_values(\"Missing Count\", ascending=False)"
   ]
  },
  {
   "cell_type": "code",
   "execution_count": 13,
   "metadata": {},
   "outputs": [
    {
     "data": {
      "text/html": [
       "<div>\n",
       "<style scoped>\n",
       "    .dataframe tbody tr th:only-of-type {\n",
       "        vertical-align: middle;\n",
       "    }\n",
       "\n",
       "    .dataframe tbody tr th {\n",
       "        vertical-align: top;\n",
       "    }\n",
       "\n",
       "    .dataframe thead th {\n",
       "        text-align: right;\n",
       "    }\n",
       "</style>\n",
       "<table border=\"1\" class=\"dataframe\">\n",
       "  <thead>\n",
       "    <tr style=\"text-align: right;\">\n",
       "      <th></th>\n",
       "      <th>ads_id</th>\n",
       "      <th>completion_year</th>\n",
       "      <th>monthly_rent</th>\n",
       "      <th>parking</th>\n",
       "      <th>bathroom</th>\n",
       "      <th>size</th>\n",
       "    </tr>\n",
       "  </thead>\n",
       "  <tbody>\n",
       "    <tr>\n",
       "      <th>count</th>\n",
       "      <td>19978</td>\n",
       "      <td>10798</td>\n",
       "      <td>19976</td>\n",
       "      <td>14280</td>\n",
       "      <td>19972</td>\n",
       "      <td>19978</td>\n",
       "    </tr>\n",
       "    <tr>\n",
       "      <th>mean</th>\n",
       "      <td>99706807</td>\n",
       "      <td>2015</td>\n",
       "      <td>2270</td>\n",
       "      <td>1</td>\n",
       "      <td>2</td>\n",
       "      <td>5925</td>\n",
       "    </tr>\n",
       "    <tr>\n",
       "      <th>std</th>\n",
       "      <td>3483246</td>\n",
       "      <td>7</td>\n",
       "      <td>22420</td>\n",
       "      <td>1</td>\n",
       "      <td>1</td>\n",
       "      <td>707490</td>\n",
       "    </tr>\n",
       "    <tr>\n",
       "      <th>min</th>\n",
       "      <td>16525511</td>\n",
       "      <td>1977</td>\n",
       "      <td>70</td>\n",
       "      <td>1</td>\n",
       "      <td>1</td>\n",
       "      <td>1</td>\n",
       "    </tr>\n",
       "    <tr>\n",
       "      <th>25%</th>\n",
       "      <td>99840140</td>\n",
       "      <td>2012</td>\n",
       "      <td>1100</td>\n",
       "      <td>1</td>\n",
       "      <td>2</td>\n",
       "      <td>750</td>\n",
       "    </tr>\n",
       "    <tr>\n",
       "      <th>50%</th>\n",
       "      <td>100212675</td>\n",
       "      <td>2017</td>\n",
       "      <td>1400</td>\n",
       "      <td>1</td>\n",
       "      <td>2</td>\n",
       "      <td>886</td>\n",
       "    </tr>\n",
       "    <tr>\n",
       "      <th>75%</th>\n",
       "      <td>100617730</td>\n",
       "      <td>2020</td>\n",
       "      <td>1800</td>\n",
       "      <td>2</td>\n",
       "      <td>2</td>\n",
       "      <td>1044</td>\n",
       "    </tr>\n",
       "    <tr>\n",
       "      <th>max</th>\n",
       "      <td>100854617</td>\n",
       "      <td>2025</td>\n",
       "      <td>2400000</td>\n",
       "      <td>10</td>\n",
       "      <td>8</td>\n",
       "      <td>99999999</td>\n",
       "    </tr>\n",
       "  </tbody>\n",
       "</table>\n",
       "</div>"
      ],
      "text/plain": [
       "         ads_id  completion_year  monthly_rent  parking  bathroom     size\n",
       "count     19978            10798         19976    14280     19972    19978\n",
       "mean   99706807             2015          2270        1         2     5925\n",
       "std     3483246                7         22420        1         1   707490\n",
       "min    16525511             1977            70        1         1        1\n",
       "25%    99840140             2012          1100        1         2      750\n",
       "50%   100212675             2017          1400        1         2      886\n",
       "75%   100617730             2020          1800        2         2     1044\n",
       "max   100854617             2025       2400000       10         8 99999999"
      ]
     },
     "execution_count": 13,
     "metadata": {},
     "output_type": "execute_result"
    }
   ],
   "source": [
    "data.describe()"
   ]
  },
  {
   "cell_type": "markdown",
   "metadata": {},
   "source": [
    "We can see that the maximum amount for `monthly_rent` is 2400000 whereas the minimum amount is 70. This could be deemed an outlier as it is significantly higher than the mean for rent. The maximum number for `parking` is 10 which could also be deemed as an outlier/error. The maximum number for `bathroom` is 8, which will be considered an outlier. The maximum size for `size` is 99999999, which is significantly higher than the mean and thus will also be considered an outlier."
   ]
  },
  {
   "cell_type": "markdown",
   "metadata": {},
   "source": [
    "Let's look at which rows contain the outliers. Starting with `monthly_rent`:"
   ]
  },
  {
   "cell_type": "markdown",
   "metadata": {},
   "source": [
    "Since mudah.my is a platform that users may use to sell properties, there is a high possibility that certain listings scraped aren't intended for rent. As we can observe, there are properties with `monthly_rent` values over 20,000. That is unrealistic and we will remove them, assuming they are properties for sale."
   ]
  },
  {
   "cell_type": "code",
   "execution_count": 22,
   "metadata": {},
   "outputs": [
    {
     "data": {
      "text/html": [
       "<div>\n",
       "<style scoped>\n",
       "    .dataframe tbody tr th:only-of-type {\n",
       "        vertical-align: middle;\n",
       "    }\n",
       "\n",
       "    .dataframe tbody tr th {\n",
       "        vertical-align: top;\n",
       "    }\n",
       "\n",
       "    .dataframe thead th {\n",
       "        text-align: right;\n",
       "    }\n",
       "</style>\n",
       "<table border=\"1\" class=\"dataframe\">\n",
       "  <thead>\n",
       "    <tr style=\"text-align: right;\">\n",
       "      <th></th>\n",
       "      <th>ads_id</th>\n",
       "      <th>prop_name</th>\n",
       "      <th>completion_year</th>\n",
       "      <th>monthly_rent</th>\n",
       "      <th>location</th>\n",
       "      <th>property_type</th>\n",
       "      <th>rooms</th>\n",
       "      <th>parking</th>\n",
       "      <th>bathroom</th>\n",
       "      <th>size</th>\n",
       "      <th>furnished</th>\n",
       "      <th>facilities</th>\n",
       "      <th>additional_facilities</th>\n",
       "      <th>region</th>\n",
       "    </tr>\n",
       "  </thead>\n",
       "  <tbody>\n",
       "    <tr>\n",
       "      <th>15754</th>\n",
       "      <td>100676946</td>\n",
       "      <td>Taman Bukit Mewah (Kajang)</td>\n",
       "      <td>NaN</td>\n",
       "      <td>45000</td>\n",
       "      <td>Selangor - Kajang</td>\n",
       "      <td>Flat</td>\n",
       "      <td>2.0</td>\n",
       "      <td>NaN</td>\n",
       "      <td>1</td>\n",
       "      <td>603</td>\n",
       "      <td>Not Furnished</td>\n",
       "      <td>NaN</td>\n",
       "      <td>Cooking Allowed, Near KTM/LRT</td>\n",
       "      <td>Selangor</td>\n",
       "    </tr>\n",
       "    <tr>\n",
       "      <th>18629</th>\n",
       "      <td>100553520</td>\n",
       "      <td>Pangsapuri Kiambang (Taman Bukit Subang)</td>\n",
       "      <td>NaN</td>\n",
       "      <td>95000</td>\n",
       "      <td>Selangor - Shah Alam</td>\n",
       "      <td>Apartment</td>\n",
       "      <td>3.0</td>\n",
       "      <td>NaN</td>\n",
       "      <td>2</td>\n",
       "      <td>750</td>\n",
       "      <td>Partially Furnished</td>\n",
       "      <td>Playground, Security, Parking, Multipurpose ha...</td>\n",
       "      <td>Cooking Allowed</td>\n",
       "      <td>Selangor</td>\n",
       "    </tr>\n",
       "    <tr>\n",
       "      <th>14207</th>\n",
       "      <td>99737409</td>\n",
       "      <td>Mutiara (Beranang)</td>\n",
       "      <td>NaN</td>\n",
       "      <td>105000</td>\n",
       "      <td>Selangor - Beranang</td>\n",
       "      <td>Flat</td>\n",
       "      <td>3.0</td>\n",
       "      <td>1</td>\n",
       "      <td>2</td>\n",
       "      <td>700</td>\n",
       "      <td>Not Furnished</td>\n",
       "      <td>Parking, Security, Lift, Playground, Sauna, Mi...</td>\n",
       "      <td>Cooking Allowed</td>\n",
       "      <td>Selangor</td>\n",
       "    </tr>\n",
       "    <tr>\n",
       "      <th>10885</th>\n",
       "      <td>99866938</td>\n",
       "      <td>Harmoni Apartment</td>\n",
       "      <td>NaN</td>\n",
       "      <td>125000</td>\n",
       "      <td>Selangor - Damansara Damai</td>\n",
       "      <td>Apartment</td>\n",
       "      <td>3.0</td>\n",
       "      <td>NaN</td>\n",
       "      <td>2</td>\n",
       "      <td>650</td>\n",
       "      <td>Partially Furnished</td>\n",
       "      <td>Parking</td>\n",
       "      <td>NaN</td>\n",
       "      <td>Selangor</td>\n",
       "    </tr>\n",
       "    <tr>\n",
       "      <th>12113</th>\n",
       "      <td>100802221</td>\n",
       "      <td>Rumah Pangsa Impian (Saujana Putra)</td>\n",
       "      <td>NaN</td>\n",
       "      <td>127898</td>\n",
       "      <td>Selangor - Kuala Langat</td>\n",
       "      <td>Flat</td>\n",
       "      <td>3.0</td>\n",
       "      <td>NaN</td>\n",
       "      <td>2</td>\n",
       "      <td>650</td>\n",
       "      <td>Not Furnished</td>\n",
       "      <td>Security, Playground, Minimart</td>\n",
       "      <td>Cooking Allowed, Near KTM/LRT</td>\n",
       "      <td>Selangor</td>\n",
       "    </tr>\n",
       "  </tbody>\n",
       "</table>\n",
       "</div>"
      ],
      "text/plain": [
       "          ads_id                                 prop_name  completion_year  \\\n",
       "15754  100676946                Taman Bukit Mewah (Kajang)              NaN   \n",
       "18629  100553520  Pangsapuri Kiambang (Taman Bukit Subang)              NaN   \n",
       "14207   99737409                        Mutiara (Beranang)              NaN   \n",
       "10885   99866938                         Harmoni Apartment              NaN   \n",
       "12113  100802221       Rumah Pangsa Impian (Saujana Putra)              NaN   \n",
       "\n",
       "       monthly_rent                    location property_type rooms  parking  \\\n",
       "15754         45000           Selangor - Kajang          Flat   2.0      NaN   \n",
       "18629         95000        Selangor - Shah Alam     Apartment   3.0      NaN   \n",
       "14207        105000         Selangor - Beranang          Flat   3.0        1   \n",
       "10885        125000  Selangor - Damansara Damai     Apartment   3.0      NaN   \n",
       "12113        127898     Selangor - Kuala Langat          Flat   3.0      NaN   \n",
       "\n",
       "       bathroom  size            furnished  \\\n",
       "15754         1   603        Not Furnished   \n",
       "18629         2   750  Partially Furnished   \n",
       "14207         2   700        Not Furnished   \n",
       "10885         2   650  Partially Furnished   \n",
       "12113         2   650        Not Furnished   \n",
       "\n",
       "                                              facilities  \\\n",
       "15754                                                NaN   \n",
       "18629  Playground, Security, Parking, Multipurpose ha...   \n",
       "14207  Parking, Security, Lift, Playground, Sauna, Mi...   \n",
       "10885                                            Parking   \n",
       "12113                     Security, Playground, Minimart   \n",
       "\n",
       "               additional_facilities    region  \n",
       "15754  Cooking Allowed, Near KTM/LRT  Selangor  \n",
       "18629                Cooking Allowed  Selangor  \n",
       "14207                Cooking Allowed  Selangor  \n",
       "10885                            NaN  Selangor  \n",
       "12113  Cooking Allowed, Near KTM/LRT  Selangor  "
      ]
     },
     "execution_count": 22,
     "metadata": {},
     "output_type": "execute_result"
    }
   ],
   "source": [
    "data[data['monthly_rent']>=20000].sort_values(by='monthly_rent').head()"
   ]
  },
  {
   "cell_type": "code",
   "execution_count": 28,
   "metadata": {},
   "outputs": [],
   "source": [
    "data = data[(data['monthly_rent'] < 25000) & (data['monthly_rent'] > 70)]"
   ]
  },
  {
   "cell_type": "code",
   "execution_count": 62,
   "metadata": {},
   "outputs": [],
   "source": [
    "data = data[(data['size']< 30000) & (data['size'] > 50)]"
   ]
  },
  {
   "cell_type": "markdown",
   "metadata": {},
   "source": [
    "### Handling Missing Values"
   ]
  },
  {
   "cell_type": "code",
   "execution_count": 45,
   "metadata": {},
   "outputs": [
    {
     "data": {
      "text/plain": [
       "ads_id                      0\n",
       "prop_name                 941\n",
       "completion_year          9146\n",
       "monthly_rent                0\n",
       "location                    0\n",
       "property_type               0\n",
       "rooms                       5\n",
       "parking                  5683\n",
       "bathroom                    5\n",
       "size                        0\n",
       "furnished                   3\n",
       "facilities               2204\n",
       "additional_facilities    5913\n",
       "region                      0\n",
       "dtype: int64"
      ]
     },
     "execution_count": 45,
     "metadata": {},
     "output_type": "execute_result"
    }
   ],
   "source": [
    "data.isna().sum()"
   ]
  },
  {
   "cell_type": "markdown",
   "metadata": {},
   "source": [
    "`parking` has null values, but when we look at the unique values of the column, we can see that there are no 0's. We can assume that properties with null values for `parking` have no parking spaces."
   ]
  },
  {
   "cell_type": "code",
   "execution_count": 46,
   "metadata": {},
   "outputs": [
    {
     "data": {
      "text/plain": [
       "array([ 2.,  1., nan,  3.,  5.,  4.,  9.,  6., 10.,  7.])"
      ]
     },
     "execution_count": 46,
     "metadata": {},
     "output_type": "execute_result"
    }
   ],
   "source": [
    "data['parking'].unique()"
   ]
  },
  {
   "cell_type": "code",
   "execution_count": 47,
   "metadata": {},
   "outputs": [],
   "source": [
    "data['parking'].fillna(0, inplace=True)"
   ]
  },
  {
   "cell_type": "markdown",
   "metadata": {},
   "source": [
    "The same can be assumed for null values in `rooms` and `bathrooms`."
   ]
  },
  {
   "cell_type": "code",
   "execution_count": 48,
   "metadata": {},
   "outputs": [
    {
     "data": {
      "text/plain": [
       "array(['5', '3', '2', '1', '4', '7', '6', 'More than 10', nan, '9', '3.0',\n",
       "       '4.0', '2.0', '1.0', '5.0', '9.0', '6.0', '7.0', '10.0'],\n",
       "      dtype=object)"
      ]
     },
     "execution_count": 48,
     "metadata": {},
     "output_type": "execute_result"
    }
   ],
   "source": [
    "data['rooms'].unique()"
   ]
  },
  {
   "cell_type": "code",
   "execution_count": 49,
   "metadata": {},
   "outputs": [],
   "source": [
    "data['rooms'].fillna(0, inplace=True)\n",
    "data['bathroom'].fillna(0, inplace=True)"
   ]
  },
  {
   "cell_type": "markdown",
   "metadata": {},
   "source": [
    "We can also assume that the null values in `facilities` and `additional_facilities` are due to there being no facilities at all. Instead of keeping them as null values, we replace them with 'None'. This is so that these rows can be used for analysis and in the prediction model as well."
   ]
  },
  {
   "cell_type": "code",
   "execution_count": 50,
   "metadata": {},
   "outputs": [],
   "source": [
    "data['facilities'].fillna(\"None\", inplace=True)\n",
    "data['additional_facilities'].fillna(\"None\", inplace=True)"
   ]
  },
  {
   "cell_type": "code",
   "execution_count": 51,
   "metadata": {},
   "outputs": [
    {
     "data": {
      "text/plain": [
       "ads_id                      0\n",
       "prop_name                 941\n",
       "completion_year          9146\n",
       "monthly_rent                0\n",
       "location                    0\n",
       "property_type               0\n",
       "rooms                       0\n",
       "parking                     0\n",
       "bathroom                    0\n",
       "size                        0\n",
       "furnished                   3\n",
       "facilities                  0\n",
       "additional_facilities       0\n",
       "region                      0\n",
       "dtype: int64"
      ]
     },
     "execution_count": 51,
     "metadata": {},
     "output_type": "execute_result"
    }
   ],
   "source": [
    "data.isna().sum()"
   ]
  },
  {
   "cell_type": "markdown",
   "metadata": {},
   "source": [
    "I decided to simply drop the rows where `furnished` was left null as there were only 3 rows."
   ]
  },
  {
   "cell_type": "code",
   "execution_count": 52,
   "metadata": {},
   "outputs": [],
   "source": [
    "data.dropna(subset=['monthly_rent', 'furnished'], inplace=True)"
   ]
  },
  {
   "cell_type": "markdown",
   "metadata": {},
   "source": [
    "### Data Manipulation\n",
    "\n",
    "The values for `facilities` and `additional_facilities` are strings, listing each facility available in the rented property. However, this isn't very usable for data analysis and prediction. Hence why we decided to create dummy variables out of the facilities and set their values as Boolean to represent whether the property offers the facilities. "
   ]
  },
  {
   "cell_type": "markdown",
   "metadata": {},
   "source": [
    "First we get a list of all the facilities offered by the properties."
   ]
  },
  {
   "cell_type": "code",
   "execution_count": 53,
   "metadata": {},
   "outputs": [
    {
     "data": {
      "text/plain": [
       "(19916, 14)"
      ]
     },
     "execution_count": 53,
     "metadata": {},
     "output_type": "execute_result"
    }
   ],
   "source": [
    "data.shape"
   ]
  },
  {
   "cell_type": "code",
   "execution_count": 54,
   "metadata": {},
   "outputs": [
    {
     "data": {
      "text/plain": [
       "19916"
      ]
     },
     "execution_count": 54,
     "metadata": {},
     "output_type": "execute_result"
    }
   ],
   "source": [
    "data['facilities'].size"
   ]
  },
  {
   "cell_type": "code",
   "execution_count": 55,
   "metadata": {},
   "outputs": [],
   "source": [
    "all_facilities = []\n",
    "for i in range(data.shape[0]):\n",
    "    all_facilities.extend(data['facilities'].iloc[i].split(\", \"))\n",
    "    all_facilities.extend(data['additional_facilities'].iloc[i].split(\", \"))"
   ]
  },
  {
   "cell_type": "markdown",
   "metadata": {},
   "source": [
    "To remove the duplicate facilities in the list, we convert it into a set."
   ]
  },
  {
   "cell_type": "code",
   "execution_count": 56,
   "metadata": {},
   "outputs": [],
   "source": [
    "facilities_set = set(all_facilities)"
   ]
  },
  {
   "cell_type": "markdown",
   "metadata": {},
   "source": [
    "However, there are some random facilities that do not make sense, such as '', '10', '11' and '6'. This could be due to inaccurate web scraping. We will just remove them from the set of facilities."
   ]
  },
  {
   "cell_type": "code",
   "execution_count": 57,
   "metadata": {},
   "outputs": [
    {
     "data": {
      "text/plain": [
       "{'',\n",
       " '10',\n",
       " '11',\n",
       " '6',\n",
       " 'Air-Cond',\n",
       " 'Barbeque area',\n",
       " 'Club house',\n",
       " 'Cooking Allowed',\n",
       " 'Gymnasium',\n",
       " 'Internet',\n",
       " 'Jogging Track',\n",
       " 'Lift',\n",
       " 'Minimart',\n",
       " 'Multipurpose hall',\n",
       " 'Near KTM/LRT',\n",
       " 'None',\n",
       " 'Parking',\n",
       " 'Playground',\n",
       " 'Sauna',\n",
       " 'Security',\n",
       " 'Squash Court',\n",
       " 'Swimming Pool',\n",
       " 'Tennis Court',\n",
       " 'Washing Machine'}"
      ]
     },
     "execution_count": 57,
     "metadata": {},
     "output_type": "execute_result"
    }
   ],
   "source": [
    "facilities_set"
   ]
  },
  {
   "cell_type": "code",
   "execution_count": 58,
   "metadata": {},
   "outputs": [],
   "source": [
    "facilities_set.remove(\"\")\n",
    "facilities_set.remove(\"6\")\n",
    "facilities_set.remove(\"10\")\n",
    "facilities_set.remove(\"11\")"
   ]
  },
  {
   "cell_type": "markdown",
   "metadata": {},
   "source": [
    "We then create the columns to hold the boolean value for each facility based on whether or not the property includes them"
   ]
  },
  {
   "cell_type": "code",
   "execution_count": 59,
   "metadata": {},
   "outputs": [],
   "source": [
    "data = data.assign(AC = lambda x: data['additional_facilities'].str.contains('Air-Cond'),\n",
    "                   Cooking = lambda x: data['additional_facilities'].str.contains('Cooking Allowed'),\n",
    "                   Internet = lambda x: data['additional_facilities'].str.contains('Internet'),\n",
    "                   Pub_Trsp = lambda x: data['additional_facilities'].str.contains('Near KTM/LRT'),\n",
    "                   No_Afac = lambda x: data['additional_facilities'].str.contains('None'),\n",
    "                   Washing_Machine = lambda x: data['additional_facilities'].str.contains('Washing Machine'),\n",
    "                   BBQ = lambda x: data['facilities'].str.contains('Barbeque area'),\n",
    "                   Club_House = lambda x: data['facilities'].str.contains('Club house'),\n",
    "                   Gym = lambda x: data['facilities'].str.contains('Gymnasium'),\n",
    "                   Jog = lambda x: data['facilities'].str.contains('Jogging Track'),\n",
    "                   Lift = lambda x: data['facilities'].str.contains('Lift'),\n",
    "                   Minimart = lambda x: data['facilities'].str.contains('Minimart'),\n",
    "                   MP_Hall = lambda x: data['facilities'].str.contains('Multipurpose hall'),\n",
    "                   No_Fac = lambda x: data['facilities'].str.contains('None'),\n",
    "                   Parking = lambda x: data['facilities'].str.contains('Parking'),\n",
    "                   Playground = lambda x: data['facilities'].str.contains('Playground'),\n",
    "                   Sauna = lambda x: data['facilities'].str.contains('Sauna'),\n",
    "                   Security = lambda x: data['facilities'].str.contains('Security'),\n",
    "                   Squash = lambda x: data['facilities'].str.contains('Squash Court'),\n",
    "                   Pool = lambda x: data['facilities'].str.contains('Swimming Pool'),\n",
    "                   Tennis = lambda x: data['facilities'].str.contains('Tennis Court'),)\n",
    "                   "
   ]
  },
  {
   "cell_type": "markdown",
   "metadata": {},
   "source": [
    "The final shape of the data is:"
   ]
  },
  {
   "cell_type": "code",
   "execution_count": 60,
   "metadata": {},
   "outputs": [
    {
     "data": {
      "text/plain": [
       "(19916, 35)"
      ]
     },
     "execution_count": 60,
     "metadata": {},
     "output_type": "execute_result"
    }
   ],
   "source": [
    "data.shape"
   ]
  },
  {
   "cell_type": "code",
   "execution_count": 63,
   "metadata": {},
   "outputs": [],
   "source": [
    "data.to_csv(\"../data/Rental_Price_cleaned.csv\")"
   ]
  },
  {
   "cell_type": "code",
   "execution_count": null,
   "metadata": {},
   "outputs": [],
   "source": []
  }
 ],
 "metadata": {
  "kernelspec": {
   "display_name": "Python 3",
   "language": "python",
   "name": "python3"
  },
  "language_info": {
   "codemirror_mode": {
    "name": "ipython",
    "version": 3
   },
   "file_extension": ".py",
   "mimetype": "text/x-python",
   "name": "python",
   "nbconvert_exporter": "python",
   "pygments_lexer": "ipython3",
   "version": "3.11.4"
  }
 },
 "nbformat": 4,
 "nbformat_minor": 2
}
